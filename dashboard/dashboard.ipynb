{
 "cells": [
  {
   "cell_type": "markdown",
   "id": "e408fb4c-c599-4a6d-8256-d9edc08d7be9",
   "metadata": {},
   "source": [
    "# Bokeh dashboard for accessibility audit"
   ]
  },
  {
   "cell_type": "markdown",
   "id": "c68635a5-e39e-4e4e-8622-744d8d6cb1c7",
   "metadata": {},
   "source": [
    "This notebook creates a Bokeh dashboard with the following common components for a baseline accessibility audit. "
   ]
  },
  {
   "cell_type": "code",
   "execution_count": null,
   "id": "5eadc7e7-c7e5-43a7-b550-3bedaf18c30e",
   "metadata": {},
   "outputs": [],
   "source": [
    "# Display outputs in the Jupyter Notebook\n",
    "\n",
    "from bokeh.io import output_notebook\n",
    "\n",
    "output_notebook()"
   ]
  },
  {
   "cell_type": "markdown",
   "id": "de020c32-16cc-41b1-ade6-7b6515e9f702",
   "metadata": {},
   "source": [
    "## Line plot\n",
    "\n",
    "This section uses data from the [Degrees Bokeh Sampledata](https://docs.bokeh.org/en/latest/docs/reference/sampledata.html#module-bokeh.sampledata.degrees)."
   ]
  },
  {
   "cell_type": "markdown",
   "id": "f8253985-c77a-4aed-8085-8ed87287a2dc",
   "metadata": {},
   "source": [
    "### Basic plot\n",
    "\n",
    "A simple line plot with only default options."
   ]
  },
  {
   "cell_type": "code",
   "execution_count": null,
   "id": "7ffe4eea-f5e9-4e87-8409-fbe7b4296dc8",
   "metadata": {},
   "outputs": [],
   "source": [
    "from bokeh.plotting import figure, show\n",
    "from bokeh.models import ColumnDataSource\n",
    "from bokeh_sampledata.degrees import data\n",
    "from bokeh.layouts import Row\n",
    "\n",
    "source = ColumnDataSource(data=data)\n",
    "\n",
    "p_line = figure(title=\"Bachelor’s degrees in Engineering earned by women over the years\", \n",
    "                x_axis_label=\"Year\", y_axis_label=\"Number of degrees\")\n",
    "p_line.line(x=\"Year\", y=\"Engineering\", source=source)\n",
    "\n",
    "show(p_line)"
   ]
  },
  {
   "cell_type": "markdown",
   "id": "20c62516-b5b2-43ef-9647-31eb81abd6bb",
   "metadata": {},
   "source": [
    "### Multi-line\n",
    "\n",
    "A plot with two line glyphs differentiated with `line_dash`, hover tooltips, and an interactive \"mute\" legend."
   ]
  },
  {
   "cell_type": "code",
   "execution_count": null,
   "id": "e6b4b250-bcbb-4522-b556-77348811e9a0",
   "metadata": {},
   "outputs": [],
   "source": [
    "from bokeh.plotting import figure, show\n",
    "from bokeh.models import ColumnDataSource\n",
    "from bokeh_sampledata.degrees import data\n",
    "\n",
    "source = ColumnDataSource(data=data)\n",
    "\n",
    "TOOLTIPS = [\n",
    "    (\"Year\", \"@Year\"),\n",
    "    (\"No.of degrees\", \"$y\"),\n",
    "     ]\n",
    "\n",
    "p_mline = figure(\n",
    "    title=\"Bachelor’s degrees in Engineering & Business earned by women over the years\",\n",
    "    x_axis_label=\"Year\", \n",
    "    y_axis_label=\"Number of degrees\",\n",
    "    tooltips=TOOLTIPS\n",
    ")\n",
    "\n",
    "p_mline.line(x=\"Year\", y=\"Engineering\", source=source, legend_label=\"Engineering\")\n",
    "p_mline.line(x=\"Year\", y=\"Business\", source=source, legend_label=\"Business\", line_dash=\"dashed\")\n",
    "\n",
    "p_mline.legend.click_policy=\"mute\"\n",
    "\n",
    "show(p_mline)"
   ]
  },
  {
   "cell_type": "markdown",
   "id": "d4ba68cf-958f-4a0a-8b85-faa772893ba1",
   "metadata": {},
   "source": [
    "## Bar plot\n",
    "\n",
    "This section uses data from the [Degrees Bokeh Sampledata](https://docs.bokeh.org/en/latest/docs/reference/sampledata.html#module-bokeh.sampledata.degrees).\n",
    "\n",
    "A vertical bar plot with:\n",
    "\n",
    "* tilted y-axis labels\n",
    "* `Viridis` palette used to colour the bars\n",
    "* a colorbar to display the colour mapping\n",
    "* a horizontal line drawn at the \"mean\" using `Span`\n",
    "* text and arrow to indicate the line denotes the mean"
   ]
  },
  {
   "cell_type": "code",
   "execution_count": null,
   "id": "e2f1e56a-042b-4d0d-aee8-a1abd6ed72c1",
   "metadata": {},
   "outputs": [],
   "source": [
    "from bokeh.plotting import figure, show\n",
    "from bokeh.models import ColumnDataSource, Span, Label, Arrow\n",
    "from bokeh_sampledata.degrees import data\n",
    "from bokeh.transform import linear_cmap\n",
    "\n",
    "df_2010 = data[data[\"Year\"] == 2010]\n",
    "df_2010 = df_2010.transpose()\n",
    "df_2010 = df_2010.drop(\"Year\").reset_index()\n",
    "df_2010.columns = [\"field\", \"degrees\"]\n",
    "\n",
    "source = ColumnDataSource(data=df_2010)\n",
    "low = int(df_2010.degrees.min())\n",
    "high = int(df_2010.degrees.max())\n",
    "\n",
    "cmap = linear_cmap(field_name='degrees', palette=\"Viridis10\", low=low, high=high)\n",
    "\n",
    "p_bar = figure(\n",
    "    title=\"Bachelor's Degrees earned by women in 2010 across fields\", \n",
    "    x_axis_label=\"Fields\", \n",
    "    y_axis_label=\"Number of degrees\",\n",
    "    x_range=list(df_2010.field),\n",
    ")\n",
    "\n",
    "p_bar.xaxis.major_label_orientation = 1\n",
    "\n",
    "r = p_bar.vbar(x=\"field\", top=\"degrees\", color=cmap, source=source)\n",
    "\n",
    "color_bar = r.construct_color_bar()\n",
    "p_bar.add_layout(color_bar, 'right')\n",
    "\n",
    "mean = int(df_2010.degrees.mean())\n",
    "\n",
    "span_mean = Span(location=mean, dimension='width')\n",
    "p_bar.add_layout(span_mean)\n",
    "\n",
    "text = Label(x=2, y=70, x_units='data', text=r'Mean ($$\\bar{x}$$)')\n",
    "p_bar.add_layout(text)\n",
    "\n",
    "arw = Arrow(x_start=3, y_start=70, start_units=\"data\", x_end=4.5, y_end=mean, end_units=\"data\")\n",
    "p_bar.add_layout(arw)\n",
    "\n",
    "show(p_bar)"
   ]
  },
  {
   "cell_type": "markdown",
   "id": "2062aa3a-67b9-449b-8fb4-a8b505900d6f",
   "metadata": {},
   "source": [
    "### Data table\n",
    "\n",
    "A tabular display of the raw data used in the above bar plot with the `DataTable` widget."
   ]
  },
  {
   "cell_type": "code",
   "execution_count": null,
   "id": "9cdd4ded-dd28-4f7f-a1a1-8ee38c98cd5b",
   "metadata": {},
   "outputs": [],
   "source": [
    "from bokeh.io import show\n",
    "from bokeh.models import ColumnDataSource, DataTable, TableColumn\n",
    "\n",
    "source = ColumnDataSource(data=df_2010)\n",
    "\n",
    "columns = [\n",
    "        TableColumn(field=\"field\", title=\"Field\"),\n",
    "        TableColumn(field=\"degrees\", title=\"No.of degrees earned in 2010\"),\n",
    "    ]\n",
    "\n",
    "data_table = DataTable(source=source, columns=columns)\n",
    "\n",
    "show(data_table)"
   ]
  },
  {
   "cell_type": "markdown",
   "id": "7f49be22-dedf-4183-8543-dcc981b1392d",
   "metadata": {},
   "source": [
    "## Scatter with legend annotations\n",
    "\n",
    "This section uses the [Penguins Bokeh Sampledata](https://docs.bokeh.org/en/latest/docs/reference/sampledata.html#module-bokeh.sampledata.penguins).\n",
    "\n",
    "Two scatter plots in a \"tab\" layout with:\n",
    "\n",
    "* multiple glyphs types\n",
    "* dropdown to filter a specific species\n",
    "* input that changes the glyph size"
   ]
  },
  {
   "cell_type": "code",
   "execution_count": null,
   "id": "323061b2-359d-4cb4-8fbb-b852d8a3e41b",
   "metadata": {},
   "outputs": [],
   "source": [
    "from bokeh.layouts import Column\n",
    "from bokeh.models import CDSView, GroupFilter, ColumnDataSource, CustomJS, Dropdown, Tabs, TabPanel, NumericInput\n",
    "from bokeh.transform import factor_mark\n",
    "from bokeh.plotting import figure, show\n",
    "from bokeh.sampledata.penguins import data\n",
    "\n",
    "source = ColumnDataSource(data)\n",
    "view = CDSView(filter=GroupFilter(column_name=\"species\", group=\"Adelie\"))\n",
    "\n",
    "SPECIES = sorted(data.species.unique())\n",
    "MARKERS = ['square', 'circle_x', 'triangle']\n",
    "\n",
    "p1_scatter = figure(title=\"Full data set\", x_axis_label=\"Bill length (mm)\", y_axis_label=\"Bill depth (mm)\")\n",
    "p1_scatter.scatter(x=\"bill_length_mm\", y=\"bill_depth_mm\", source=source, marker=factor_mark('species', MARKERS, SPECIES), legend_group=\"species\")\n",
    "\n",
    "p2_scatter = figure(x_axis_label=\"Bill length (mm)\", y_axis_label=\"Bill depth (mm)\", x_range=p1_scatter.x_range, y_range=p1_scatter.y_range)\n",
    "r = p2_scatter.scatter(x=\"bill_length_mm\", y=\"bill_depth_mm\", source=source, view=view, marker=factor_mark('species', MARKERS, SPECIES))\n",
    "\n",
    "menu = [(\"Adelie\", \"Adelie\"), (\"Chinstrap\", \"Chinstrap\"), (\"Gentoo\", \"Gentoo\")]\n",
    "dropdown = Dropdown(label=\"Select species\", menu=menu, align=\"center\")\n",
    "callback = CustomJS(args=dict(view=view, p2_scatter_title=p2_scatter.title), code=\"\"\"\n",
    "    const selected_species = cb_obj.item\n",
    "    console.log(selected_species)\n",
    "    view.filter.group = selected_species\n",
    "    view.emit.change()\n",
    "\"\"\")\n",
    "dropdown.js_on_click(callback)\n",
    "\n",
    "numeric_input = NumericInput(value=5, low=1, high=20, title=\"Enter a number to change the glyph size (between 1-20):\", align=\"center\")\n",
    "numeric_input.js_link('value', r.glyph, 'size')\n",
    "\n",
    "p_filtered_scatter = Tabs(tabs=[\n",
    "    TabPanel(child=p1_scatter, title=\"All species\"),\n",
    "    TabPanel(child=Column(dropdown, numeric_input, p2_scatter), title=\"Selected species\"),\n",
    "])\n",
    "\n",
    "show(p_filtered_scatter)"
   ]
  },
  {
   "cell_type": "markdown",
   "id": "a5aead89-444f-4304-ab85-582262d5084b",
   "metadata": {},
   "source": [
    "## Final Dashboard"
   ]
  },
  {
   "cell_type": "markdown",
   "id": "ad8b4a48-90b3-4712-9324-2ab15658f6a0",
   "metadata": {},
   "source": [
    "A dashboard created with `layout` that combines all the above interactive plots in a single view to export."
   ]
  },
  {
   "cell_type": "code",
   "execution_count": null,
   "id": "64432887-1d26-4695-81f6-afed3a8c877e",
   "metadata": {},
   "outputs": [],
   "source": [
    "from bokeh.layouts import layout\n",
    "from bokeh.plotting import show, output_file\n",
    "from bokeh.models import TabPanel, Tabs, Div\n",
    "\n",
    "div1 = Div(text=\n",
    "           \"\"\"\n",
    "           <h1> Bokeh dashboard for accessibility audit</h1>\n",
    "           <h2>Line and bar plots</h2>\n",
    "           <p> This section uses data from the <a href=\"https://docs.bokeh.org/en/latest/docs/reference/sampledata.html#module-bokeh.sampledata.degrees\">Degrees Bokeh Sampledata</a>.</p>\n",
    "           <br>\n",
    "           <p>\n",
    "           Left-to-right, top-to-bottom:\n",
    "           <ol>\n",
    "               <li>Basic line plot with default options.</li>\n",
    "               <li>A plot with two lines, hover tooltip interactions, and an interactive legend that can be \"muted\" by clicking on the legend labels.</li>\n",
    "               <li>Vertical bar plot that uses the <a href=\"https://docs.bokeh.org/en/latest/docs/reference/palettes.html#matplotlib-palettes\">Virdis built-in color palette</a>. It also uses the span, text (including mathematical notation), and arrow annotations to show the mean value.</li>\n",
    "               <li>The raw data used to create the bar plot displayed with a <a href=\"https://docs.bokeh.org/en/latest/docs/user_guide/interaction/widgets.html#datatable\">DataTable widget</a>.</li>\n",
    "           </ol>\n",
    "           </p>\n",
    "           \"\"\"\n",
    ")\n",
    "\n",
    "div2 = Div(text=\n",
    "           \"\"\"\n",
    "           <h2>Scatter plot</h2>\n",
    "           \"\"\"\n",
    ")\n",
    "\n",
    "div3 = Div(text=\n",
    "                 \"\"\"\n",
    "                 <p> This section uses the <a href=\"https://docs.bokeh.org/en/latest/docs/reference/sampledata.html#module-bokeh.sampledata.penguins\">Penguins Bokeh Sampledata</a>.</p>\n",
    "                 <p>\n",
    "                 Two scatter plots displayed in a \"tab\" layout with:\n",
    "                   <ul>\n",
    "                       <li>Multiple glyphs types</li>\n",
    "                       <li>Dropdown widget to filter for a specific species</li>\n",
    "                       <li> Numeric input widget that changes the glyph size</li>\n",
    "                   </ul>\n",
    "                </p>\n",
    "                \"\"\"\n",
    ")\n",
    "\n",
    "dashboard = layout([\n",
    "    [div1],\n",
    "    [p_line, p_mline],\n",
    "    [p_bar, data_table],\n",
    "    [div2],\n",
    "    [div3, p_filtered_scatter],\n",
    "])\n",
    "\n",
    "dashboard.sizing_mode = \"stretch_width\"\n",
    "\n",
    "show(dashboard)"
   ]
  },
  {
   "cell_type": "markdown",
   "id": "0571e2bb-3fee-4cc2-bca1-f7b93829f2f2",
   "metadata": {},
   "source": [
    "## Output to HTML file"
   ]
  },
  {
   "cell_type": "markdown",
   "id": "c1ae8ff1-92fe-4d39-9703-01358a018c43",
   "metadata": {},
   "source": [
    "Export the dashabord as an HTML file and save it at the root of the respository."
   ]
  },
  {
   "cell_type": "code",
   "execution_count": null,
   "id": "0654ae6a-b91a-4202-8f5c-b6c3df2a2133",
   "metadata": {},
   "outputs": [],
   "source": [
    "from bokeh.io import output_file, save\n",
    "\n",
    "output_file(filename=\"../index.html\", title=\"Bokeh Dashboard for Accessibility Audit\")\n",
    "\n",
    "save(dashboard)"
   ]
  },
  {
   "cell_type": "code",
   "execution_count": null,
   "id": "af28becd-6bc1-4f87-afb7-c40f1dd6b0f6",
   "metadata": {},
   "outputs": [],
   "source": []
  }
 ],
 "metadata": {
  "kernelspec": {
   "display_name": "Python 3 (ipykernel)",
   "language": "python",
   "name": "python3"
  },
  "language_info": {
   "codemirror_mode": {
    "name": "ipython",
    "version": 3
   },
   "file_extension": ".py",
   "mimetype": "text/x-python",
   "name": "python",
   "nbconvert_exporter": "python",
   "pygments_lexer": "ipython3",
   "version": "3.12.4"
  }
 },
 "nbformat": 4,
 "nbformat_minor": 5
}
